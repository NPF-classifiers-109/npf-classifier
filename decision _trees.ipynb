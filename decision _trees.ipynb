{
 "cells": [
  {
   "cell_type": "code",
   "execution_count": 2,
   "metadata": {},
   "outputs": [],
   "source": [
    "import pandas as pd\n",
    "import numpy as np"
   ]
  },
  {
   "cell_type": "markdown",
   "metadata": {},
   "source": [
    "Load raw data set"
   ]
  },
  {
   "cell_type": "code",
   "execution_count": 3,
   "metadata": {},
   "outputs": [],
   "source": [
    "data = pd.read_csv('./npf_train.zip', compression='zip')"
   ]
  },
  {
   "cell_type": "markdown",
   "metadata": {},
   "source": [
    "## Clean data\n",
    "\n",
    "date and class4 features have object type and partlybad boolean. Everything else are float except id is integer.\n",
    "\n",
    "The class 4 needs to be changed to categorial, since that column is needed (for creating the predictable class 'class2').\n",
    "\n",
    "Id and partlybad can be left out because id feature is not relevant and partlybad seems to have just values 'false' values. Also date is not needed for evaluation but it is still good to have them around, to see when the data was gathered. Date can be used as indexing for the data."
   ]
  },
  {
   "cell_type": "code",
   "execution_count": 4,
   "metadata": {},
   "outputs": [],
   "source": [
    "data = data.set_index('date')\n",
    "data = data.drop(['id', 'partlybad'], axis=1)\n",
    "data['class4'] = data['class4'].astype('category')"
   ]
  },
  {
   "cell_type": "markdown",
   "metadata": {},
   "source": [
    "Create new variable to refer to event and nonevent days"
   ]
  },
  {
   "cell_type": "code",
   "execution_count": 5,
   "metadata": {},
   "outputs": [],
   "source": [
    "class2 = np.array([1]*data.shape[0], dtype='object')\n",
    "class2[data['class4'] == 'nonevent'] = 0\n",
    "data['class2'] = class2\n",
    "data['class2'] = data['class2'].astype('category')\n",
    "\n",
    "data = data.drop('class4', axis=1)"
   ]
  },
  {
   "cell_type": "code",
   "execution_count": 9,
   "metadata": {},
   "outputs": [],
   "source": [
    "from sklearn import tree"
   ]
  },
  {
   "cell_type": "code",
   "execution_count": 18,
   "metadata": {},
   "outputs": [],
   "source": [
    "Y = data['class2']\n",
    "X = data.drop('class2', axis=1)"
   ]
  },
  {
   "cell_type": "code",
   "execution_count": 177,
   "metadata": {},
   "outputs": [
    {
     "data": {
      "text/plain": [
       "0.8122270742358079"
      ]
     },
     "execution_count": 177,
     "metadata": {},
     "output_type": "execute_result"
    }
   ],
   "source": [
    "from sklearn.model_selection import train_test_split\n",
    "\n",
    "X_train, X_test, y_train, y_test = train_test_split(X, Y, test_size=0.5, random_state=55)\n",
    "\n",
    "clf = tree.DecisionTreeClassifier(max_depth=3)\n",
    "clf.fit(X_train, y_train)\n",
    "clf.score(X_test, y_test)"
   ]
  },
  {
   "cell_type": "code",
   "execution_count": 67,
   "metadata": {},
   "outputs": [
    {
     "name": "stdout",
     "output_type": "stream",
     "text": [
      "|--- feature_70 <= 72.33\n",
      "|   |--- feature_18 <= 9.32\n",
      "|   |   |--- feature_42 <= 0.15\n",
      "|   |   |   |--- class: 0\n",
      "|   |   |--- feature_42 >  0.15\n",
      "|   |   |   |--- class: 1\n",
      "|   |--- feature_18 >  9.32\n",
      "|   |   |--- feature_82 <= 917.76\n",
      "|   |   |   |--- class: 0\n",
      "|   |   |--- feature_82 >  917.76\n",
      "|   |   |   |--- class: 0\n",
      "|--- feature_70 >  72.33\n",
      "|   |--- feature_98 <= 0.00\n",
      "|   |   |--- feature_50 <= 25.17\n",
      "|   |   |   |--- class: 0\n",
      "|   |   |--- feature_50 >  25.17\n",
      "|   |   |   |--- class: 1\n",
      "|   |--- feature_98 >  0.00\n",
      "|   |   |--- feature_82 <= 925.42\n",
      "|   |   |   |--- class: 0\n",
      "|   |   |--- feature_82 >  925.42\n",
      "|   |   |   |--- class: 0\n",
      "\n"
     ]
    }
   ],
   "source": [
    "r = tree.export_text(clf)\n",
    "print(r)"
   ]
  },
  {
   "cell_type": "code",
   "execution_count": 182,
   "metadata": {},
   "outputs": [
    {
     "data": {
      "text/plain": [
       "0.8995633187772926"
      ]
     },
     "execution_count": 182,
     "metadata": {},
     "output_type": "execute_result"
    }
   ],
   "source": [
    "from sklearn.ensemble import RandomForestClassifier\n",
    "rf = RandomForestClassifier(n_estimators=100, max_features=\"sqrt\", min_samples_split=2)\n",
    "rf = rf.fit(X_train, y_train)\n",
    "rf.score(X_test, y_test)"
   ]
  },
  {
   "cell_type": "code",
   "execution_count": 151,
   "metadata": {},
   "outputs": [
    {
     "name": "stdout",
     "output_type": "stream",
     "text": [
      "RandomForestClassifier(bootstrap=True, class_weight=None, criterion='gini',\n",
      "                       max_depth=None, max_features='sqrt', max_leaf_nodes=None,\n",
      "                       min_impurity_decrease=0.0, min_impurity_split=None,\n",
      "                       min_samples_leaf=1, min_samples_split=2,\n",
      "                       min_weight_fraction_leaf=0.0, n_estimators=1000,\n",
      "                       n_jobs=None, oob_score=False, random_state=None,\n",
      "                       verbose=0, warm_start=False)\n"
     ]
    }
   ],
   "source": [
    "print(rf)"
   ]
  },
  {
   "cell_type": "code",
   "execution_count": 183,
   "metadata": {},
   "outputs": [
    {
     "data": {
      "text/plain": [
       "0.8995633187772926"
      ]
     },
     "execution_count": 183,
     "metadata": {},
     "output_type": "execute_result"
    }
   ],
   "source": [
    "from sklearn.ensemble import ExtraTreesClassifier\n",
    "et = ExtraTreesClassifier(n_estimators=100)\n",
    "et= et.fit(X_train, y_train)\n",
    "et.score(X_test, y_test)"
   ]
  },
  {
   "cell_type": "code",
   "execution_count": null,
   "metadata": {},
   "outputs": [],
   "source": []
  }
 ],
 "metadata": {
  "interpreter": {
   "hash": "43a1086d938abcc31e3623ae4ddc6301be053a38588b120e79a7921e5bfc801c"
  },
  "kernelspec": {
   "display_name": "Python 3",
   "language": "python",
   "name": "python3"
  },
  "language_info": {
   "codemirror_mode": {
    "name": "ipython",
    "version": 3
   },
   "file_extension": ".py",
   "mimetype": "text/x-python",
   "name": "python",
   "nbconvert_exporter": "python",
   "pygments_lexer": "ipython3",
   "version": "3.7.3"
  }
 },
 "nbformat": 4,
 "nbformat_minor": 2
}
