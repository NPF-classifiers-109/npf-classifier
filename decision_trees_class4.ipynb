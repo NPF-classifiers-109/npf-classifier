{
 "cells": [
  {
   "cell_type": "code",
   "execution_count": 2,
   "metadata": {},
   "outputs": [],
   "source": [
    "import pandas as pd\n",
    "import numpy as np"
   ]
  },
  {
   "cell_type": "code",
   "execution_count": 191,
   "metadata": {},
   "outputs": [],
   "source": [
    "data = pd.read_csv('./npf_train.zip', compression='zip')"
   ]
  },
  {
   "cell_type": "code",
   "execution_count": 192,
   "metadata": {},
   "outputs": [
    {
     "data": {
      "text/plain": [
       "<bound method NDFrame.head of date\n",
       "2000-01-01    3\n",
       "2000-01-20    3\n",
       "2000-01-23    3\n",
       "2000-02-17    3\n",
       "2000-03-25    2\n",
       "2000-03-28    0\n",
       "2000-04-08    0\n",
       "2000-04-09    2\n",
       "2000-04-25    3\n",
       "2000-05-12    1\n",
       "2000-05-13    0\n",
       "2000-06-10    2\n",
       "2000-06-15    2\n",
       "2000-06-18    0\n",
       "2000-06-21    0\n",
       "2000-06-25    3\n",
       "2000-06-28    0\n",
       "2000-07-02    3\n",
       "2000-07-05    0\n",
       "2000-07-08    0\n",
       "2000-07-11    3\n",
       "2000-07-12    3\n",
       "2000-07-25    3\n",
       "2000-08-15    3\n",
       "2000-09-26    2\n",
       "2000-09-29    3\n",
       "2000-10-02    3\n",
       "2001-05-16    2\n",
       "2001-05-23    2\n",
       "2001-05-30    2\n",
       "             ..\n",
       "2010-11-23    0\n",
       "2010-11-28    0\n",
       "2010-12-05    3\n",
       "2010-12-29    3\n",
       "2010-12-31    3\n",
       "2011-01-10    3\n",
       "2011-01-11    3\n",
       "2011-01-16    3\n",
       "2011-01-24    3\n",
       "2011-02-10    3\n",
       "2011-02-26    3\n",
       "2011-05-02    3\n",
       "2011-05-21    0\n",
       "2011-06-01    3\n",
       "2011-06-06    2\n",
       "2011-06-10    0\n",
       "2011-06-15    3\n",
       "2011-06-24    3\n",
       "2011-06-26    3\n",
       "2011-06-29    0\n",
       "2011-07-04    3\n",
       "2011-07-07    3\n",
       "2011-07-15    3\n",
       "2011-07-21    0\n",
       "2011-08-02    2\n",
       "2011-08-14    3\n",
       "2011-08-16    3\n",
       "2011-08-18    3\n",
       "2011-08-21    3\n",
       "2011-08-22    3\n",
       "Name: class4, Length: 458, dtype: int8>"
      ]
     },
     "execution_count": 192,
     "metadata": {},
     "output_type": "execute_result"
    }
   ],
   "source": [
    "data = data.set_index('date')\n",
    "data = data.drop(['id', 'partlybad'], axis=1)\n",
    "data['class4'] = data['class4'].astype('category')\n",
    "data['class4'] = data['class4'].cat.codes"
   ]
  },
  {
   "cell_type": "code",
   "execution_count": 193,
   "metadata": {},
   "outputs": [],
   "source": [
    "from sklearn import tree"
   ]
  },
  {
   "cell_type": "code",
   "execution_count": 194,
   "metadata": {},
   "outputs": [],
   "source": [
    "Y = data['class4']\n",
    "X = data.drop('class4', axis=1)"
   ]
  },
  {
   "cell_type": "code",
   "execution_count": 219,
   "metadata": {},
   "outputs": [
    {
     "data": {
      "text/plain": [
       "0.5942028985507246"
      ]
     },
     "execution_count": 219,
     "metadata": {},
     "output_type": "execute_result"
    }
   ],
   "source": [
    "from sklearn.model_selection import train_test_split\n",
    "\n",
    "X_train, X_test, y_train, y_test = train_test_split(X, Y, test_size=0.3, random_state=42)\n",
    "\n",
    "clf = tree.DecisionTreeClassifier(max_depth=3)\n",
    "clf.fit(X_train, y_train)\n",
    "clf.score(X_test, y_test)"
   ]
  },
  {
   "cell_type": "code",
   "execution_count": 221,
   "metadata": {},
   "outputs": [
    {
     "data": {
      "text/plain": [
       "0.644927536231884"
      ]
     },
     "execution_count": 221,
     "metadata": {},
     "output_type": "execute_result"
    }
   ],
   "source": [
    "from sklearn.ensemble import RandomForestClassifier\n",
    "rf = RandomForestClassifier(n_estimators=100, max_features=\"sqrt\", min_samples_split=2)\n",
    "rf = rf.fit(X_train, y_train)\n",
    "rf.score(X_test, y_test)"
   ]
  },
  {
   "cell_type": "code",
   "execution_count": 222,
   "metadata": {},
   "outputs": [
    {
     "data": {
      "text/plain": [
       "0.6231884057971014"
      ]
     },
     "execution_count": 222,
     "metadata": {},
     "output_type": "execute_result"
    }
   ],
   "source": [
    "from sklearn.ensemble import ExtraTreesClassifier\n",
    "et = ExtraTreesClassifier(n_estimators=100)\n",
    "et= et.fit(X_train, y_train)\n",
    "et.score(X_test, y_test)"
   ]
  }
 ],
 "metadata": {
  "interpreter": {
   "hash": "43a1086d938abcc31e3623ae4ddc6301be053a38588b120e79a7921e5bfc801c"
  },
  "kernelspec": {
   "display_name": "Python 3",
   "language": "python",
   "name": "python3"
  },
  "language_info": {
   "codemirror_mode": {
    "name": "ipython",
    "version": 3
   },
   "file_extension": ".py",
   "mimetype": "text/x-python",
   "name": "python",
   "nbconvert_exporter": "python",
   "pygments_lexer": "ipython3",
   "version": "3.7.3"
  }
 },
 "nbformat": 4,
 "nbformat_minor": 2
}
