{
 "cells": [
  {
   "cell_type": "code",
   "execution_count": 7,
   "metadata": {},
   "outputs": [],
   "source": [
    "import pandas as pd\n",
    "import numpy as np"
   ]
  },
  {
   "cell_type": "markdown",
   "metadata": {},
   "source": [
    "Load raw data set"
   ]
  },
  {
   "cell_type": "code",
   "execution_count": 8,
   "metadata": {},
   "outputs": [],
   "source": [
    "data = pd.read_csv('./npf_train.zip', compression='zip')"
   ]
  },
  {
   "cell_type": "markdown",
   "metadata": {},
   "source": [
    "## Clean data\n",
    "\n",
    "date and class4 features have object type and partlybad boolean. Everything else are float except id is integer.\n",
    "\n",
    "The class 4 needs to be changed to categorial, since that column is needed (for creating the predictable class 'class2').\n",
    "\n",
    "Id and partlybad can be left out because id feature is not relevant and partlybad seems to have just values 'false' values. Also date is not needed for evaluation but it is still good to have them around, to see when the data was gathered. Date can be used as indexing for the data."
   ]
  },
  {
   "cell_type": "code",
   "execution_count": 9,
   "metadata": {},
   "outputs": [],
   "source": [
    "data = data.set_index('date')\n",
    "data = data.drop(['id', 'partlybad'], axis=1)\n",
    "data['class4'] = data['class4'].astype('category')"
   ]
  },
  {
   "cell_type": "markdown",
   "metadata": {},
   "source": [
    "Create new variable to refer to event and nonevent days"
   ]
  },
  {
   "cell_type": "code",
   "execution_count": 10,
   "metadata": {},
   "outputs": [],
   "source": [
    "class2 = np.array([1]*data.shape[0], dtype='object')\n",
    "class2[data['class4'] == 'nonevent'] = 0\n",
    "data['class2'] = class2\n",
    "data['class2'] = data['class2'].astype('category')\n",
    "\n",
    "data = data.drop('class4', axis=1)"
   ]
  },
  {
   "cell_type": "code",
   "execution_count": 13,
   "metadata": {},
   "outputs": [],
   "source": [
    "compression_opts = dict(method='zip',\n",
    "                        archive_name='training.csv')  \n",
    "data.to_csv('training.zip', index=False, compression=compression_opts)"
   ]
  }
 ],
 "metadata": {
  "interpreter": {
   "hash": "43a1086d938abcc31e3623ae4ddc6301be053a38588b120e79a7921e5bfc801c"
  },
  "kernelspec": {
   "display_name": "Python 3.8.3 64-bit ('base': conda)",
   "language": "python",
   "name": "python3"
  },
  "language_info": {
   "codemirror_mode": {
    "name": "ipython",
    "version": 3
   },
   "file_extension": ".py",
   "mimetype": "text/x-python",
   "name": "python",
   "nbconvert_exporter": "python",
   "pygments_lexer": "ipython3",
   "version": "3.8.3"
  },
  "orig_nbformat": 4
 },
 "nbformat": 4,
 "nbformat_minor": 2
}
